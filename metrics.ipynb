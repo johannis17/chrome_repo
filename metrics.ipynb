{
 "cells": [
  {
   "cell_type": "code",
   "execution_count": 19,
   "metadata": {},
   "outputs": [],
   "source": [
    "import pandas as pd\n",
    "from copy import deepcopy\n",
    "\n",
    "\n",
    "def get_synthetic_data():\n",
    "    df = pd.DataFrame(\n",
    "        {\n",
    "            \"kontoid\": [1, 2, 2, 3, 3, 3, 4, 4, 4, 4],\n",
    "            \"productid\": [11, 21, 22, 31, 32, 33, 41, 42, 43, 44],\n",
    "            \"date\": [\n",
    "                \"01-01-2019\",\n",
    "                \"01-01-2019\",\n",
    "                \"02-01-2019\",\n",
    "                \"01-01-2019\",\n",
    "                \"02-01-2019\",\n",
    "                \"03-01-2019\",\n",
    "                \"01-01-2019\",\n",
    "                \"02-01-2019\",\n",
    "                \"03-01-2019\",\n",
    "                \"04-01-2019\",\n",
    "            ],\n",
    "            \"numsmenge\": [1, 2, 2, 3, 3, 3, 4, 4, 4, 4],\n",
    "        }\n",
    "    )\n",
    "\n",
    "\n",
    "    df[\"date\"] = pd.to_datetime(df[\"date\"], format=\"%d-%M-%Y\")\n",
    "    df[\"my_index\"] = list(range(df.shape[0]))\n",
    "    #print(df.dtypes)\n",
    "    return df\n",
    "\n",
    "def get_customers_with_2plus_productids(df):\n",
    "    df[\"count\"] = 1\n",
    "    df_agg = df.groupby(\"kontoid\", as_index=False).agg({\"count\": \"sum\"})\n",
    "    df_agg.rename(columns={\"count\": \"countsum\"}, inplace=True)\n",
    "    #print(df_agg)\n",
    "    df = pd.merge(df, df_agg, how=\"inner\", on=\"kontoid\")\n",
    "    df = deepcopy(df[df.countsum > 1])\n",
    "    return df\n",
    "\n",
    "def split_firstN_last_purchase(dfall,df2prodids):\n",
    "    df2prodids.sort_values(by=[\"kontoid\", \"date\"], ascending=[True, True], inplace=True)\n",
    "    dftest = df2prodids.groupby(\"kontoid\", as_index=False).agg(\n",
    "        {\"date\": \"last\", \"my_index\": \"last\", \"productid\": \"last\", \"numsmenge\": \"first\"}\n",
    "    )\n",
    "    dftrain = dfall[~dfall.my_index.isin(df2prodids_agg.my_index.tolist())]\n",
    "    return dftrain,dftest"
   ]
  },
  {
   "cell_type": "code",
   "execution_count": 18,
   "metadata": {},
   "outputs": [],
   "source": [
    "def filter_on_purchase_date(_dfpdp,_dfdates):\n",
    "    _dfdates.rename(columns={\"date\": \"last_date\"}, inplace=True)\n",
    "    _dfout = pd.merge(_dfpdp, _dfdates, on=\"kontoid\", how=\"inner\")\n",
    "    _dfout = _dfout[_dfout.date <= _dfout.last_date]\n",
    "    return _dfout"
   ]
  },
  {
   "cell_type": "code",
   "execution_count": null,
   "metadata": {},
   "outputs": [],
   "source": [
    "df1 = get\n",
    "\n",
    "\n",
    "df1, df2 = take_last_purchase(df2)\n",
    "print(df1, df2)"
   ]
  },
  {
   "cell_type": "code",
   "execution_count": null,
   "metadata": {},
   "outputs": [],
   "source": [
    "df4, df5 = take_last_purchase(df1)\n",
    "print(df5)"
   ]
  },
  {
   "cell_type": "code",
   "execution_count": null,
   "metadata": {},
   "outputs": [],
   "source": [
    "df1 = get_synthetic_data()\n",
    "df2 = get_customers_with_2plus_productids(df1)\n",
    "df3,df4 = take_last_purchase(df2)\n"
   ]
  }
 ],
 "metadata": {
  "kernelspec": {
   "display_name": "my_conda_env_with_py38",
   "language": "python",
   "name": "python3"
  },
  "language_info": {
   "codemirror_mode": {
    "name": "ipython",
    "version": 3
   },
   "file_extension": ".py",
   "mimetype": "text/x-python",
   "name": "python",
   "nbconvert_exporter": "python",
   "pygments_lexer": "ipython3",
   "version": "3.8.17"
  },
  "orig_nbformat": 4
 },
 "nbformat": 4,
 "nbformat_minor": 2
}
